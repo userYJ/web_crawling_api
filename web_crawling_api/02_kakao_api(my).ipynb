{
 "cells": [
  {
   "cell_type": "markdown",
   "id": "b78b0a91",
   "metadata": {},
   "source": [
    "### 크롤링 정책\n",
    "- robots.txt : 크롤링 정책을 설명한 페이지\n",
    "- 과도한 크롤링으로 서비스에 영향을 주었을때 법적 문제가 있을수 있다.\n",
    "- api 사용 > robots.txt 정책에 맞게 > 서비스에 피해가 가지 않는선에서 수집\n",
    "-서비스 피해\n",
    "    - 지적재산권\n",
    "    - 서비스 과부하\n",
    "    - 데이터 사용표준"
   ]
  },
  {
   "cell_type": "markdown",
   "id": "5a7b64c0",
   "metadata": {},
   "source": [
    "### API 서비스를 이용한 데이터 수집\n",
    "- naver api (application programming interface)\n",
    "- application 등록 : app_key (request token)\n",
    "- document 확인 : url\n",
    "- request(url,app_key, data) > response(json(str))\n",
    "- json(str) > list, dict 로 parsing"
   ]
  },
  {
   "cell_type": "code",
   "execution_count": 2,
   "id": "1f3e25d1",
   "metadata": {},
   "outputs": [],
   "source": [
    "import requests\n",
    "import json\n",
    "import pandas as pd"
   ]
  },
  {
   "cell_type": "markdown",
   "id": "a5caefd3",
   "metadata": {},
   "source": [
    "#### kakao 번역 api"
   ]
  },
  {
   "cell_type": "code",
   "execution_count": null,
   "id": "f7cbcd4b",
   "metadata": {},
   "outputs": [],
   "source": [
    "# 1. application 등록 : app_key (request token)"
   ]
  },
  {
   "cell_type": "code",
   "execution_count": 4,
   "id": "5b9731a4",
   "metadata": {},
   "outputs": [],
   "source": [
    "APP_KEY = \"\" # API key"
   ]
  },
  {
   "cell_type": "code",
   "execution_count": null,
   "id": "2a895e70",
   "metadata": {},
   "outputs": [],
   "source": [
    "# 2. document 확인 : url\n",
    "# post : url, params, headers "
   ]
  },
  {
   "cell_type": "code",
   "execution_count": 5,
   "id": "491ec78f",
   "metadata": {},
   "outputs": [],
   "source": [
    "url = \"https://dapi.kakao.com/v2/translation/translate\"\n",
    "params = {\"query\" : \"파이썬 웹 크롤링 수업입니다.\" ,\n",
    "         \"src_lang\": \"kr\", \"target_lang\": \"en\"} #원하는 데이터 전송 (문자열을 api 써서 번역)\n",
    "headers = {\"Authorization\": f\"KakaoAK {APP_KEY}\"}"
   ]
  },
  {
   "cell_type": "code",
   "execution_count": null,
   "id": "6ecb48a1",
   "metadata": {},
   "outputs": [],
   "source": [
    "# 3. request(url,app_key, data) > response(json(str))"
   ]
  },
  {
   "cell_type": "code",
   "execution_count": 7,
   "id": "60657b9e",
   "metadata": {},
   "outputs": [
    {
     "data": {
      "text/plain": [
       "<Response [200]>"
      ]
     },
     "execution_count": 7,
     "metadata": {},
     "output_type": "execute_result"
    }
   ],
   "source": [
    "response = requests.post(url, params, headers = headers)"
   ]
  },
  {
   "cell_type": "code",
   "execution_count": 8,
   "id": "fa4e2928",
   "metadata": {},
   "outputs": [
    {
     "data": {
      "text/plain": [
       "'{\"translated_text\":[[\"Python Web crawling class.\"]]}'"
      ]
     },
     "execution_count": 8,
     "metadata": {},
     "output_type": "execute_result"
    }
   ],
   "source": [
    "response.text"
   ]
  },
  {
   "cell_type": "code",
   "execution_count": null,
   "id": "ca0fecf3",
   "metadata": {},
   "outputs": [],
   "source": [
    "# 4. json(str) > list, dict 로 parsing"
   ]
  },
  {
   "cell_type": "code",
   "execution_count": 10,
   "id": "70f4ca87",
   "metadata": {},
   "outputs": [
    {
     "data": {
      "text/plain": [
       "'Python Web crawling class.'"
      ]
     },
     "execution_count": 10,
     "metadata": {},
     "output_type": "execute_result"
    }
   ],
   "source": [
    "en_text = response.json()[\"translated_text\"][0][0] #json 으로 파싱\n",
    "en_text"
   ]
  },
  {
   "cell_type": "code",
   "execution_count": null,
   "id": "e11a0949",
   "metadata": {},
   "outputs": [],
   "source": [
    "# 5. function"
   ]
  },
  {
   "cell_type": "code",
   "execution_count": 13,
   "id": "2d82ea83",
   "metadata": {},
   "outputs": [],
   "source": [
    "def translate(text, src=\"kr\", target =\"en\"):\n",
    "    APP_KEY = \"\" # API key\n",
    "    \n",
    "    url = \"https://dapi.kakao.com/v2/translation/translate\"\n",
    "    params = {\"query\" : text ,\n",
    "         \"src_lang\": src, \"target_lang\": target} #원하는 데이터 전송 (문자열을 api 써서 번역)\n",
    "    headers = {\"Authorization\": f\"KakaoAK {APP_KEY}\"}\n",
    "    \n",
    "    response = requests.post(url, params, headers = headers)\n",
    "    return response.json()[\"translated_text\"][0][0] #json 으로 파싱"
   ]
  },
  {
   "cell_type": "code",
   "execution_count": 14,
   "id": "3b263976",
   "metadata": {},
   "outputs": [
    {
     "data": {
      "text/plain": [
       "'Python programming is fun.'"
      ]
     },
     "execution_count": 14,
     "metadata": {},
     "output_type": "execute_result"
    }
   ],
   "source": [
    "text = \"파이썬 프로그래밍은 재미있습니다.\"\n",
    "en_text = translate(text)\n",
    "en_text"
   ]
  },
  {
   "cell_type": "code",
   "execution_count": 15,
   "id": "7a30c514",
   "metadata": {},
   "outputs": [
    {
     "data": {
      "text/html": [
       "<div>\n",
       "<style scoped>\n",
       "    .dataframe tbody tr th:only-of-type {\n",
       "        vertical-align: middle;\n",
       "    }\n",
       "\n",
       "    .dataframe tbody tr th {\n",
       "        vertical-align: top;\n",
       "    }\n",
       "\n",
       "    .dataframe thead th {\n",
       "        text-align: right;\n",
       "    }\n",
       "</style>\n",
       "<table border=\"1\" class=\"dataframe\">\n",
       "  <thead>\n",
       "    <tr style=\"text-align: right;\">\n",
       "      <th></th>\n",
       "      <th>id</th>\n",
       "      <th>title</th>\n",
       "    </tr>\n",
       "  </thead>\n",
       "  <tbody>\n",
       "    <tr>\n",
       "      <th>0</th>\n",
       "      <td>1</td>\n",
       "      <td>파이썬은 재미있습니다.</td>\n",
       "    </tr>\n",
       "    <tr>\n",
       "      <th>1</th>\n",
       "      <td>2</td>\n",
       "      <td>웹크롤링은 재미있습니다.</td>\n",
       "    </tr>\n",
       "  </tbody>\n",
       "</table>\n",
       "</div>"
      ],
      "text/plain": [
       "   id          title\n",
       "0   1   파이썬은 재미있습니다.\n",
       "1   2  웹크롤링은 재미있습니다."
      ]
     },
     "execution_count": 15,
     "metadata": {},
     "output_type": "execute_result"
    }
   ],
   "source": [
    "df = pd.DataFrame(\n",
    "    [{'id':1, \"title\": \"파이썬은 재미있습니다.\"},\n",
    "     {'id':2, \"title\": \"웹크롤링은 재미있습니다.\"}]\n",
    ")\n",
    "df"
   ]
  },
  {
   "cell_type": "code",
   "execution_count": 16,
   "id": "09620530",
   "metadata": {},
   "outputs": [
    {
     "data": {
      "text/html": [
       "<div>\n",
       "<style scoped>\n",
       "    .dataframe tbody tr th:only-of-type {\n",
       "        vertical-align: middle;\n",
       "    }\n",
       "\n",
       "    .dataframe tbody tr th {\n",
       "        vertical-align: top;\n",
       "    }\n",
       "\n",
       "    .dataframe thead th {\n",
       "        text-align: right;\n",
       "    }\n",
       "</style>\n",
       "<table border=\"1\" class=\"dataframe\">\n",
       "  <thead>\n",
       "    <tr style=\"text-align: right;\">\n",
       "      <th></th>\n",
       "      <th>id</th>\n",
       "      <th>title</th>\n",
       "      <th>en_title</th>\n",
       "    </tr>\n",
       "  </thead>\n",
       "  <tbody>\n",
       "    <tr>\n",
       "      <th>0</th>\n",
       "      <td>1</td>\n",
       "      <td>파이썬은 재미있습니다.</td>\n",
       "      <td>Python is fun.</td>\n",
       "    </tr>\n",
       "    <tr>\n",
       "      <th>1</th>\n",
       "      <td>2</td>\n",
       "      <td>웹크롤링은 재미있습니다.</td>\n",
       "      <td>Web crawling is fun.</td>\n",
       "    </tr>\n",
       "  </tbody>\n",
       "</table>\n",
       "</div>"
      ],
      "text/plain": [
       "   id          title              en_title\n",
       "0   1   파이썬은 재미있습니다.        Python is fun.\n",
       "1   2  웹크롤링은 재미있습니다.  Web crawling is fun."
      ]
     },
     "execution_count": 16,
     "metadata": {},
     "output_type": "execute_result"
    }
   ],
   "source": [
    "df[\"en_title\"] = df[\"title\"].apply(translate)\n",
    "df"
   ]
  }
 ],
 "metadata": {
  "kernelspec": {
   "display_name": "Python 3 (ipykernel)",
   "language": "python",
   "name": "python3"
  },
  "language_info": {
   "codemirror_mode": {
    "name": "ipython",
    "version": 3
   },
   "file_extension": ".py",
   "mimetype": "text/x-python",
   "name": "python",
   "nbconvert_exporter": "python",
   "pygments_lexer": "ipython3",
   "version": "3.9.13"
  }
 },
 "nbformat": 4,
 "nbformat_minor": 5
}
