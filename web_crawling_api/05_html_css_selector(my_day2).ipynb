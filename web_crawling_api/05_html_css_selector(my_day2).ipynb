{
 "cells": [
  {
   "cell_type": "markdown",
   "id": "ed37f17a",
   "metadata": {},
   "source": [
    "# web\n",
    "### client - server : url\n",
    "### 동적페이지 : json(str) 포멧으로 데이터 받기 \n",
    "    - 웹페이지 분석 : url\n",
    "    - reqeust(url) > response(data) : data(json(str))\n",
    "    - data(json(str)) > parsing(response.json()) > list, dict\n",
    "\n",
    "### 정적페이지 : html 포멧으로 \n",
    "    - 웹페이지 분석 : url\n",
    "    - reqeust(url) > response(data) : data(html(str))\n",
    "    - data(html(str)) > parsing(bs(css-selector)) > text"
   ]
  },
  {
   "cell_type": "markdown",
   "id": "9a6c6f08",
   "metadata": {},
   "source": [
    "### HTML\n",
    "- 웹페이지에서 레이아웃, 문자열, 속성값 등등 을 나타내는 문법\n",
    "\n",
    "### HTML 구성요소\n",
    "- Document : 한페이지 전체의 html code\n",
    "- Element : 하나의 레이아웃을 나타내는 단위\n",
    "- Tag : 레이아웃의 종류를 나타내는 단위 : 주로 시작태그와 끝태그가 있음\n",
    "- Attribute : 속성값 : 시작태그에 포함 : 태그에서 특정 기능을 하는 값\n",
    "- Text : 시작태그와 끝태그 사이에 있는 문자열"
   ]
  },
  {
   "cell_type": "code",
   "execution_count": null,
   "id": "1497bd55",
   "metadata": {},
   "outputs": [],
   "source": [
    "# html code 에서 text를 가져오기위해 엘리먼트를 선택해야 한다\n",
    "# 엘리먼트를 선택하는 문법이 css-selector\n",
    "# css-selecter를 사용할수 잇게 해주는 패키지가 bs"
   ]
  },
  {
   "cell_type": "code",
   "execution_count": 1,
   "id": "5ea84a49",
   "metadata": {},
   "outputs": [
    {
     "data": {
      "text/html": [
       "<div> # element\n",
       "    <button class=\"btn no1\" value=\"1\"> click 1 </button> # tag\n",
       "    <button class=\"btn no2\" value=\"2\"> click 2 </button>\n",
       "    <a href=\"https://google.com\" target=\"_blink\"> click!!! </a> # a tag -> 하이퍼링크 tag\n",
       "</div>\n"
      ],
      "text/plain": [
       "<IPython.core.display.HTML object>"
      ]
     },
     "metadata": {},
     "output_type": "display_data"
    }
   ],
   "source": [
    "%%html\n",
    "<div> # element\n",
    "    <button class=\"btn no1\" value=\"1\"> click 1 </button> # tag\n",
    "    <button class=\"btn no2\" value=\"2\"> click 2 </button>\n",
    "    <a href=\"https://google.com\" target=\"_blink\"> click!!! </a> # a tag -> 하이퍼링크 tag\n",
    "</div>"
   ]
  },
  {
   "cell_type": "code",
   "execution_count": 2,
   "id": "73c0fcd8",
   "metadata": {},
   "outputs": [],
   "source": [
    "# tag의 종류 (많이사용되는)"
   ]
  },
  {
   "cell_type": "code",
   "execution_count": 11,
   "id": "cb4ffb36",
   "metadata": {},
   "outputs": [],
   "source": [
    "# p : 한줄의 문자열 출력"
   ]
  },
  {
   "cell_type": "code",
   "execution_count": 5,
   "id": "2dab9ffa",
   "metadata": {},
   "outputs": [
    {
     "data": {
      "text/html": [
       "<p>kt 1</p>\n",
       "<p>kt 2</p>\n"
      ],
      "text/plain": [
       "<IPython.core.display.HTML object>"
      ]
     },
     "metadata": {},
     "output_type": "display_data"
    }
   ],
   "source": [
    "%%html\n",
    "<p>kt 1</p>\n",
    "<p>kt 2</p>"
   ]
  },
  {
   "cell_type": "code",
   "execution_count": 6,
   "id": "9072950b",
   "metadata": {},
   "outputs": [],
   "source": [
    "# span: 한 블럭의 문자열 출력"
   ]
  },
  {
   "cell_type": "code",
   "execution_count": 8,
   "id": "83dbcaac",
   "metadata": {},
   "outputs": [
    {
     "data": {
      "text/html": [
       "<span>kt 1</span>\n",
       "<span>kt 2</span>\n"
      ],
      "text/plain": [
       "<IPython.core.display.HTML object>"
      ]
     },
     "metadata": {},
     "output_type": "display_data"
    }
   ],
   "source": [
    "%%html\n",
    "<span>kt 1</span>\n",
    "<span>kt 2</span>"
   ]
  },
  {
   "cell_type": "code",
   "execution_count": 9,
   "id": "61d85a43",
   "metadata": {},
   "outputs": [],
   "source": [
    "# div 태그 : 레이아웃(영역)을 출력 (영역구분)"
   ]
  },
  {
   "cell_type": "code",
   "execution_count": 10,
   "id": "c6e34018",
   "metadata": {},
   "outputs": [
    {
     "data": {
      "text/html": [
       "<div>\n",
       "    <p>kt 1</p>\n",
       "    <p>kt 2</p>\n",
       "</div>\n",
       "<div>\n",
       "    <span>kt 3</span>\n",
       "</div>\n"
      ],
      "text/plain": [
       "<IPython.core.display.HTML object>"
      ]
     },
     "metadata": {},
     "output_type": "display_data"
    }
   ],
   "source": [
    "%%html\n",
    "<div>\n",
    "    <p>kt 1</p>\n",
    "    <p>kt 2</p>\n",
    "</div>\n",
    "<div>\n",
    "    <span>kt 3</span>\n",
    "</div>"
   ]
  },
  {
   "cell_type": "code",
   "execution_count": 12,
   "id": "2430745f",
   "metadata": {},
   "outputs": [],
   "source": [
    "# table : 행과 열로 이뤄진 데이터를 출력할때 사용하는 tag"
   ]
  },
  {
   "cell_type": "code",
   "execution_count": 14,
   "id": "0a9c9c1c",
   "metadata": {},
   "outputs": [
    {
     "data": {
      "text/html": [
       "<table>\n",
       "    <caption>table</caption>\n",
       "    <thead>\n",
       "        <tr>\n",
       "            <th>column1</th>\n",
       "            <th>column2</th>\n",
       "        </tr>\n",
       "    </thead>\n",
       "    <tbody>\n",
       "        <tr>\n",
       "            <th>kt 1</th>\n",
       "            <th>kt 2</th>\n",
       "        </tr>\n",
       "        \n",
       "        <tr>\n",
       "            <th>kt3</th>\n",
       "            <th>kt4</th>\n",
       "        </tr>\n",
       "    </tbody>\n",
       "</table>\n"
      ],
      "text/plain": [
       "<IPython.core.display.HTML object>"
      ]
     },
     "metadata": {},
     "output_type": "display_data"
    }
   ],
   "source": [
    "%%html\n",
    "<table>\n",
    "    <caption>table</caption>\n",
    "    <thead>\n",
    "        <tr>\n",
    "            <th>column1</th>\n",
    "            <th>column2</th>\n",
    "        </tr>\n",
    "    </thead>\n",
    "    <tbody>\n",
    "        <tr>\n",
    "            <th>kt 1</th>\n",
    "            <th>kt 2</th>\n",
    "        </tr>\n",
    "        \n",
    "        <tr>\n",
    "            <th>kt3</th>\n",
    "            <th>kt4</th>\n",
    "        </tr>\n",
    "    </tbody>\n",
    "    \n",
    "</table>"
   ]
  },
  {
   "cell_type": "code",
   "execution_count": 15,
   "id": "7815d1ae",
   "metadata": {},
   "outputs": [],
   "source": [
    "# ul, li : 리스트 문자열 출력 tag  ,기사 등등.."
   ]
  },
  {
   "cell_type": "code",
   "execution_count": 16,
   "id": "94c1300f",
   "metadata": {},
   "outputs": [
    {
     "data": {
      "text/html": [
       "<ul>\n",
       "    <li>kt1</li>\n",
       "    <li>kt2</li>\n",
       "</ul>\n"
      ],
      "text/plain": [
       "<IPython.core.display.HTML object>"
      ]
     },
     "metadata": {},
     "output_type": "display_data"
    }
   ],
   "source": [
    "%%html\n",
    "<ul>\n",
    "    <li>kt1</li>\n",
    "    <li>kt2</li>\n",
    "</ul>"
   ]
  },
  {
   "cell_type": "code",
   "execution_count": 17,
   "id": "69816bef",
   "metadata": {},
   "outputs": [],
   "source": [
    "# a : 링크 출력\n",
    "# target=\"_blink\" : 새로운 tab에서 띄우는 기능"
   ]
  },
  {
   "cell_type": "code",
   "execution_count": 19,
   "id": "99761680",
   "metadata": {},
   "outputs": [
    {
     "data": {
      "text/html": [
       "<a href=\"https://naver.com\" target=\"_blink\">move to naver </a>\n"
      ],
      "text/plain": [
       "<IPython.core.display.HTML object>"
      ]
     },
     "metadata": {},
     "output_type": "display_data"
    }
   ],
   "source": [
    "%%html\n",
    "<a href=\"https://naver.com\" target=\"_blink\">move to naver </a>"
   ]
  },
  {
   "cell_type": "code",
   "execution_count": 20,
   "id": "60d98596",
   "metadata": {},
   "outputs": [],
   "source": [
    "# img : 이미지를 출력할때 사용하는 tag"
   ]
  },
  {
   "cell_type": "code",
   "execution_count": 26,
   "id": "076876ea",
   "metadata": {},
   "outputs": [
    {
     "data": {
      "text/html": [
       "<img src=\"https://cfm.kt.com/images/v2/layout/gnb-ktlogo.png\" alt=\"kt\">\n"
      ],
      "text/plain": [
       "<IPython.core.display.HTML object>"
      ]
     },
     "metadata": {},
     "output_type": "display_data"
    }
   ],
   "source": [
    "%%html\n",
    "<img src=\"https://cfm.kt.com/images/v2/layout/gnb-ktlogo.png\" alt=\"kt\">"
   ]
  },
  {
   "cell_type": "markdown",
   "id": "d6e99194",
   "metadata": {},
   "source": [
    "### css selector\n",
    "- html element를 선택하기 위한 문법\n",
    "\n",
    "\n",
    "### element를 선택하기 위한 방법들\n",
    "- tag\n",
    "- id (속성값)\n",
    "- class (속성값)\n",
    "- attribute (아이디,클래스 제외한 나머지 속성값)"
   ]
  },
  {
   "cell_type": "code",
   "execution_count": 27,
   "id": "1bfd152e",
   "metadata": {},
   "outputs": [],
   "source": [
    "# tag\n",
    "# css-selecter : span : kt3 선택"
   ]
  },
  {
   "cell_type": "code",
   "execution_count": 28,
   "id": "7bdc2337",
   "metadata": {},
   "outputs": [
    {
     "data": {
      "text/html": [
       "<div> kt1 </div>\n",
       "<p>kt2</p>\n",
       "<span>kt3</span>\n",
       "    \n"
      ],
      "text/plain": [
       "<IPython.core.display.HTML object>"
      ]
     },
     "metadata": {},
     "output_type": "display_data"
    }
   ],
   "source": [
    "%%html\n",
    "<div> kt1 </div>\n",
    "<p>kt2</p>\n",
    "<span>kt3</span>"
   ]
  },
  {
   "cell_type": "code",
   "execution_count": 29,
   "id": "50c7177d",
   "metadata": {},
   "outputs": [],
   "source": [
    "# id : 한페이지에 같은 id 값을 사용하지 않는다.\n",
    "# css-selecter : #d2 : kt2 선택"
   ]
  },
  {
   "cell_type": "code",
   "execution_count": 31,
   "id": "a7b10623",
   "metadata": {},
   "outputs": [
    {
     "data": {
      "text/html": [
       "<p id=\"d1\"> kt1 </p>\n",
       "<p id=\"d2\"> kt2 </p>\n",
       "<p id=\"d3\"> kt3 </p>\n",
       "<p id=\"d4\"> kt4 </p>\n"
      ],
      "text/plain": [
       "<IPython.core.display.HTML object>"
      ]
     },
     "metadata": {},
     "output_type": "display_data"
    }
   ],
   "source": [
    "%%html\n",
    "<p id=\"d1\"> kt1 </p>\n",
    "<p id=\"d2\"> kt2 </p>\n",
    "<p id=\"d3\"> kt3 </p>\n",
    "<p id=\"d4\"> kt4 </p>"
   ]
  },
  {
   "cell_type": "code",
   "execution_count": 32,
   "id": "be9e9e66",
   "metadata": {},
   "outputs": [],
   "source": [
    "# class \n",
    "# 하나의 태그에 여러개의 값을 사용할수 있다.\n",
    "# 한페이지에서 동일값을 여러번 사용할 수 있다.\n",
    "# css-selecter : .text : kt1, kt3, kt4 선택"
   ]
  },
  {
   "cell_type": "code",
   "execution_count": 33,
   "id": "01dd1bed",
   "metadata": {},
   "outputs": [
    {
     "data": {
      "text/html": [
       "<p class=\"text d1\"> kt1 </p>\n",
       "<p class=\"d2\"> kt2 </p>\n",
       "<p class=\"text d3\"> kt3 </p>\n",
       "<p class=\"text d4\"> kt4 </p>\n"
      ],
      "text/plain": [
       "<IPython.core.display.HTML object>"
      ]
     },
     "metadata": {},
     "output_type": "display_data"
    }
   ],
   "source": [
    "%%html\n",
    "<p class=\"text d1\"> kt1 </p>\n",
    "<p class=\"d2\"> kt2 </p>\n",
    "<p class=\"text d3\"> kt3 </p>\n",
    "<p class=\"text d4\"> kt4 </p>"
   ]
  },
  {
   "cell_type": "code",
   "execution_count": 34,
   "id": "fa83b4cb",
   "metadata": {},
   "outputs": [],
   "source": [
    "# attr\n",
    "# css-selecter : [value=\"no2\"] : kt2 선택"
   ]
  },
  {
   "cell_type": "code",
   "execution_count": 35,
   "id": "a1602e69",
   "metadata": {},
   "outputs": [
    {
     "data": {
      "text/html": [
       "<p value=\"no1\"> kt1 </p>\n",
       "<p value=\"no2\"> kt2 </p>\n",
       "<p value=\"no3\"> kt3 </p>\n",
       "<p value=\"no4\"> kt4 </p>\n"
      ],
      "text/plain": [
       "<IPython.core.display.HTML object>"
      ]
     },
     "metadata": {},
     "output_type": "display_data"
    }
   ],
   "source": [
    "%%html\n",
    "<p value=\"no1\"> kt1 </p>\n",
    "<p value=\"no2\"> kt2 </p>\n",
    "<p value=\"no3\"> kt3 </p>\n",
    "<p value=\"no4\"> kt4 </p>"
   ]
  },
  {
   "cell_type": "code",
   "execution_count": 36,
   "id": "32172d84",
   "metadata": {},
   "outputs": [],
   "source": [
    "# 게층적으로 엘리먼트 선택\n",
    "# css-selecter : p : kt1, kt2\n",
    "\n",
    "# > : 한단계 하위 엘리먼트 선택\n",
    "# css-selecter : .wrap > p : kt1\n",
    "# css-selecter : .wrap >  div > p : kt2\n",
    "\n",
    "# 공백 : 하위 엘리먼트 모두 선택\n",
    "# css-selecter : .wrap p : kt1, kt2 모두선택 wrap 다음에 공백 하고 p (wrap 엘리먼트의 하위엘리먼트에서 모두 선택)\n",
    "\n",
    "# span태그 이면서 no1 클래스를 가진 엘리먼트 선택\n",
    "# css-selecter : span.no1 : kt3 (selecter 두개 붙여서쓰면 모두 만족하는거 찾기)\n"
   ]
  },
  {
   "cell_type": "code",
   "execution_count": 37,
   "id": "c817ce0a",
   "metadata": {},
   "outputs": [
    {
     "data": {
      "text/html": [
       "<div>\n",
       "    <p>kt1</p>\n",
       "    <div>\n",
       "        <p>kt2</p>\n",
       "    </div>\n",
       "</div>\n"
      ],
      "text/plain": [
       "<IPython.core.display.HTML object>"
      ]
     },
     "metadata": {},
     "output_type": "display_data"
    }
   ],
   "source": [
    "%%html\n",
    "<div class =\"wrap\">\n",
    "    <p class=\"no1\">kt1</p>\n",
    "    <div>\n",
    "        <p class=\"no1\">kt2</p>\n",
    "        <span class=\"no1\">kt3</span>\n",
    "    </div>\n",
    "</div>"
   ]
  },
  {
   "cell_type": "code",
   "execution_count": 38,
   "id": "0c35bf96",
   "metadata": {},
   "outputs": [],
   "source": [
    "# n번째 엘리먼트 선택\n",
    "# css-selecter : .wrap > p:nth-child(2) : kt2  2번째의 있는 tag가 p 태그이면 선택해라\n",
    "# css-selecter : .wrap > p:nth-child(2), .wrap > p:nth-child(3) : kt2,kt3"
   ]
  },
  {
   "cell_type": "code",
   "execution_count": 39,
   "id": "103ba611",
   "metadata": {},
   "outputs": [
    {
     "data": {
      "text/html": [
       "<div class=\"wrap\">\n",
       "    <p>kt1</p>\n",
       "    <p>kt2</p>\n",
       "    <p>kt3</p>\n",
       "</div>\n"
      ],
      "text/plain": [
       "<IPython.core.display.HTML object>"
      ]
     },
     "metadata": {},
     "output_type": "display_data"
    }
   ],
   "source": [
    "%%html\n",
    "<div class=\"wrap\">\n",
    "    <p>kt1</p>\n",
    "    <p>kt2</p>\n",
    "    <p>kt3</p>\n",
    "</div>"
   ]
  }
 ],
 "metadata": {
  "kernelspec": {
   "display_name": "Python 3 (ipykernel)",
   "language": "python",
   "name": "python3"
  },
  "language_info": {
   "codemirror_mode": {
    "name": "ipython",
    "version": 3
   },
   "file_extension": ".py",
   "mimetype": "text/x-python",
   "name": "python",
   "nbconvert_exporter": "python",
   "pygments_lexer": "ipython3",
   "version": "3.9.13"
  }
 },
 "nbformat": 4,
 "nbformat_minor": 5
}
