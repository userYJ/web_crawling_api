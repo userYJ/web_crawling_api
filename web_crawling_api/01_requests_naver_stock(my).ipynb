{
 "cells": [
  {
   "cell_type": "markdown",
   "id": "87b48b35",
   "metadata": {},
   "source": [
    "### 웹크롤링 방법\n",
    " - 동적페이지 : URL의 변경 없이 페이지의 내용이 변경 : json 형태 데이터 수집\n",
    " - 정적페이지 : URL이 변경되면서 페이지의 내용이 변경 : html 형태 데이터 수집"
   ]
  },
  {
   "cell_type": "code",
   "execution_count": 1,
   "id": "ec2fd5e5",
   "metadata": {},
   "outputs": [],
   "source": [
    "import pandas as pd # 행렬구조 데이터 처리\n",
    "import requests # url통해 서버를 통해 요청, 가져오기 실행"
   ]
  },
  {
   "cell_type": "markdown",
   "id": "f6479ec5",
   "metadata": {},
   "source": [
    "- 1. 웹서비스 분석: 개발자 도구를 이용해 분석 : 데이터 요청시 필요한게 -> url 즉 url 알아내기가 첫번째\n",
    "- 2. 서버에 데이터 요청 : request(URL) > response(json 포멧의 데이터 (str)) -> dictionary나 list 형태  \n",
    "- 3. Json(str) > parsing > dict, list 형태로 데이터 바꿔줌 > DataFrame"
   ]
  },
  {
   "cell_type": "markdown",
   "id": "4666f0cf",
   "metadata": {},
   "source": [
    "### 네이버 주가 데이터 수집\n",
    "- 동적 페이지 : JSON\n",
    "- PC 페이지가 복잡하면 모바일 페이지에서 수집"
   ]
  },
  {
   "cell_type": "code",
   "execution_count": 2,
   "id": "04e5b9c5",
   "metadata": {},
   "outputs": [],
   "source": [
    "page_size, page = 20, 1\n",
    "url = \"https://m.stock.naver.com/api/index/KOSDAQ/price?pageSize=10&page=2\""
   ]
  },
  {
   "cell_type": "code",
   "execution_count": 3,
   "id": "4796dd80",
   "metadata": {},
   "outputs": [
    {
     "data": {
      "text/plain": [
       "<Response [200]>"
      ]
     },
     "execution_count": 3,
     "metadata": {},
     "output_type": "execute_result"
    }
   ],
   "source": [
    "response  = requests.get(url)\n",
    "response # status code 성공이면 200번대, url이 오류거나 서버쪽 비정상적 차단 - > 400번대나 500번대"
   ]
  },
  {
   "cell_type": "code",
   "execution_count": 4,
   "id": "5823a752",
   "metadata": {},
   "outputs": [
    {
     "data": {
      "text/plain": [
       "'[{\"localTradedAt\":\"2022-10-13\",\"closePrice\":\"651.59\",\"compareToPreviousClosePrice\":\"-20.08\",\"compareToPreviousPrice\":{\"code\":\"5\",\"text\":\"하락\",\"name\":\"FALLING\"},\"fluctuationsRatio\":\"-2.99\",\"openPrice\":\"'"
      ]
     },
     "execution_count": 4,
     "metadata": {},
     "output_type": "execute_result"
    }
   ],
   "source": [
    "response.text[:200]"
   ]
  },
  {
   "cell_type": "code",
   "execution_count": 5,
   "id": "ab1aae7d",
   "metadata": {},
   "outputs": [
    {
     "data": {
      "text/plain": [
       "list"
      ]
     },
     "execution_count": 5,
     "metadata": {},
     "output_type": "execute_result"
    }
   ],
   "source": [
    "datas = response.json()\n",
    "type(datas)"
   ]
  },
  {
   "cell_type": "code",
   "execution_count": 6,
   "id": "62cca765",
   "metadata": {},
   "outputs": [
    {
     "data": {
      "text/html": [
       "<div>\n",
       "<style scoped>\n",
       "    .dataframe tbody tr th:only-of-type {\n",
       "        vertical-align: middle;\n",
       "    }\n",
       "\n",
       "    .dataframe tbody tr th {\n",
       "        vertical-align: top;\n",
       "    }\n",
       "\n",
       "    .dataframe thead th {\n",
       "        text-align: right;\n",
       "    }\n",
       "</style>\n",
       "<table border=\"1\" class=\"dataframe\">\n",
       "  <thead>\n",
       "    <tr style=\"text-align: right;\">\n",
       "      <th></th>\n",
       "      <th>localTradedAt</th>\n",
       "      <th>closePrice</th>\n",
       "      <th>compareToPreviousClosePrice</th>\n",
       "      <th>compareToPreviousPrice</th>\n",
       "      <th>fluctuationsRatio</th>\n",
       "      <th>openPrice</th>\n",
       "      <th>highPrice</th>\n",
       "      <th>lowPrice</th>\n",
       "    </tr>\n",
       "  </thead>\n",
       "  <tbody>\n",
       "    <tr>\n",
       "      <th>0</th>\n",
       "      <td>2022-10-13</td>\n",
       "      <td>651.59</td>\n",
       "      <td>-20.08</td>\n",
       "      <td>{'code': '5', 'text': '하락', 'name': 'FALLING'}</td>\n",
       "      <td>-2.99</td>\n",
       "      <td>669.36</td>\n",
       "      <td>669.71</td>\n",
       "      <td>650.39</td>\n",
       "    </tr>\n",
       "    <tr>\n",
       "      <th>1</th>\n",
       "      <td>2022-10-12</td>\n",
       "      <td>671.67</td>\n",
       "      <td>2.17</td>\n",
       "      <td>{'code': '2', 'text': '상승', 'name': 'RISING'}</td>\n",
       "      <td>0.32</td>\n",
       "      <td>669.59</td>\n",
       "      <td>673.42</td>\n",
       "      <td>663.60</td>\n",
       "    </tr>\n",
       "    <tr>\n",
       "      <th>2</th>\n",
       "      <td>2022-10-11</td>\n",
       "      <td>669.50</td>\n",
       "      <td>-28.99</td>\n",
       "      <td>{'code': '5', 'text': '하락', 'name': 'FALLING'}</td>\n",
       "      <td>-4.15</td>\n",
       "      <td>685.30</td>\n",
       "      <td>685.30</td>\n",
       "      <td>667.63</td>\n",
       "    </tr>\n",
       "    <tr>\n",
       "      <th>3</th>\n",
       "      <td>2022-10-07</td>\n",
       "      <td>698.49</td>\n",
       "      <td>-7.52</td>\n",
       "      <td>{'code': '5', 'text': '하락', 'name': 'FALLING'}</td>\n",
       "      <td>-1.07</td>\n",
       "      <td>700.71</td>\n",
       "      <td>707.42</td>\n",
       "      <td>697.59</td>\n",
       "    </tr>\n",
       "    <tr>\n",
       "      <th>4</th>\n",
       "      <td>2022-10-06</td>\n",
       "      <td>706.01</td>\n",
       "      <td>20.67</td>\n",
       "      <td>{'code': '2', 'text': '상승', 'name': 'RISING'}</td>\n",
       "      <td>3.02</td>\n",
       "      <td>690.48</td>\n",
       "      <td>706.43</td>\n",
       "      <td>690.48</td>\n",
       "    </tr>\n",
       "  </tbody>\n",
       "</table>\n",
       "</div>"
      ],
      "text/plain": [
       "  localTradedAt closePrice compareToPreviousClosePrice  \\\n",
       "0    2022-10-13     651.59                      -20.08   \n",
       "1    2022-10-12     671.67                        2.17   \n",
       "2    2022-10-11     669.50                      -28.99   \n",
       "3    2022-10-07     698.49                       -7.52   \n",
       "4    2022-10-06     706.01                       20.67   \n",
       "\n",
       "                           compareToPreviousPrice fluctuationsRatio openPrice  \\\n",
       "0  {'code': '5', 'text': '하락', 'name': 'FALLING'}             -2.99    669.36   \n",
       "1   {'code': '2', 'text': '상승', 'name': 'RISING'}              0.32    669.59   \n",
       "2  {'code': '5', 'text': '하락', 'name': 'FALLING'}             -4.15    685.30   \n",
       "3  {'code': '5', 'text': '하락', 'name': 'FALLING'}             -1.07    700.71   \n",
       "4   {'code': '2', 'text': '상승', 'name': 'RISING'}              3.02    690.48   \n",
       "\n",
       "  highPrice lowPrice  \n",
       "0    669.71   650.39  \n",
       "1    673.42   663.60  \n",
       "2    685.30   667.63  \n",
       "3    707.42   697.59  \n",
       "4    706.43   690.48  "
      ]
     },
     "execution_count": 6,
     "metadata": {},
     "output_type": "execute_result"
    }
   ],
   "source": [
    "kospi_df = pd.DataFrame(datas)\n",
    "kospi_df.head()"
   ]
  },
  {
   "cell_type": "code",
   "execution_count": 7,
   "id": "00ed5fb6",
   "metadata": {},
   "outputs": [],
   "source": [
    "colums = [\"stocks\", 'close']"
   ]
  },
  {
   "cell_type": "code",
   "execution_count": 8,
   "id": "8b492724",
   "metadata": {},
   "outputs": [],
   "source": [
    "def stock_price(code =\" KOSPI\", page_size=20, page=1):\n",
    "    \"\"\"\n",
    "    params: code(KOSPI or KOSDAQ)\n",
    "    \"\"\"\n",
    "    url = f\"https://m.stock.naver.com/api/index/{code}/price?pageSize={page_size}&page={page}\"\n",
    "    response = requests.get(url)\n",
    "    datas = response.json()\n",
    "    return pd.DataFrame(datas)[[\"localTradedAt\", \"closePrice\"]]"
   ]
  },
  {
   "cell_type": "code",
   "execution_count": 9,
   "id": "03b63161",
   "metadata": {},
   "outputs": [
    {
     "data": {
      "text/html": [
       "<div>\n",
       "<style scoped>\n",
       "    .dataframe tbody tr th:only-of-type {\n",
       "        vertical-align: middle;\n",
       "    }\n",
       "\n",
       "    .dataframe tbody tr th {\n",
       "        vertical-align: top;\n",
       "    }\n",
       "\n",
       "    .dataframe thead th {\n",
       "        text-align: right;\n",
       "    }\n",
       "</style>\n",
       "<table border=\"1\" class=\"dataframe\">\n",
       "  <thead>\n",
       "    <tr style=\"text-align: right;\">\n",
       "      <th></th>\n",
       "      <th>localTradedAt</th>\n",
       "      <th>closePrice</th>\n",
       "    </tr>\n",
       "  </thead>\n",
       "  <tbody>\n",
       "    <tr>\n",
       "      <th>0</th>\n",
       "      <td>2022-10-27</td>\n",
       "      <td>691.91</td>\n",
       "    </tr>\n",
       "    <tr>\n",
       "      <th>1</th>\n",
       "      <td>2022-10-26</td>\n",
       "      <td>683.17</td>\n",
       "    </tr>\n",
       "  </tbody>\n",
       "</table>\n",
       "</div>"
      ],
      "text/plain": [
       "  localTradedAt closePrice\n",
       "0    2022-10-27     691.91\n",
       "1    2022-10-26     683.17"
      ]
     },
     "execution_count": 9,
     "metadata": {},
     "output_type": "execute_result"
    }
   ],
   "source": [
    "df = stock_price(\"KOSDAQ\")\n",
    "df.head(2)"
   ]
  },
  {
   "cell_type": "code",
   "execution_count": 11,
   "id": "aac844d6",
   "metadata": {},
   "outputs": [],
   "source": [
    "# 5 . 실습 : 원달러 환율 데이터 수집"
   ]
  },
  {
   "cell_type": "code",
   "execution_count": 10,
   "id": "dedd38c6",
   "metadata": {},
   "outputs": [],
   "source": [
    "def exchange_rate(code=\"FX_USDKRW\", page_size=20,page=1):\n",
    "    url = f\"https://api.stock.naver.com/marketindex/exchange/{code}/prices?page={page}&pageSize={page_size}\"\n",
    "    response = requests.get(url)\n",
    "    datas = response.json()\n",
    "    return pd.DataFrame(datas)[[\"localTradedAt\", \"closePrice\"]]"
   ]
  },
  {
   "cell_type": "code",
   "execution_count": 12,
   "id": "0aa18657",
   "metadata": {},
   "outputs": [
    {
     "data": {
      "text/html": [
       "<div>\n",
       "<style scoped>\n",
       "    .dataframe tbody tr th:only-of-type {\n",
       "        vertical-align: middle;\n",
       "    }\n",
       "\n",
       "    .dataframe tbody tr th {\n",
       "        vertical-align: top;\n",
       "    }\n",
       "\n",
       "    .dataframe thead th {\n",
       "        text-align: right;\n",
       "    }\n",
       "</style>\n",
       "<table border=\"1\" class=\"dataframe\">\n",
       "  <thead>\n",
       "    <tr style=\"text-align: right;\">\n",
       "      <th></th>\n",
       "      <th>localTradedAt</th>\n",
       "      <th>closePrice</th>\n",
       "    </tr>\n",
       "  </thead>\n",
       "  <tbody>\n",
       "    <tr>\n",
       "      <th>0</th>\n",
       "      <td>2022-10-27</td>\n",
       "      <td>1,421.50</td>\n",
       "    </tr>\n",
       "    <tr>\n",
       "      <th>1</th>\n",
       "      <td>2022-10-26</td>\n",
       "      <td>1,420.00</td>\n",
       "    </tr>\n",
       "    <tr>\n",
       "      <th>2</th>\n",
       "      <td>2022-10-25</td>\n",
       "      <td>1,433.00</td>\n",
       "    </tr>\n",
       "    <tr>\n",
       "      <th>3</th>\n",
       "      <td>2022-10-24</td>\n",
       "      <td>1,442.00</td>\n",
       "    </tr>\n",
       "    <tr>\n",
       "      <th>4</th>\n",
       "      <td>2022-10-21</td>\n",
       "      <td>1,438.00</td>\n",
       "    </tr>\n",
       "  </tbody>\n",
       "</table>\n",
       "</div>"
      ],
      "text/plain": [
       "  localTradedAt closePrice\n",
       "0    2022-10-27   1,421.50\n",
       "1    2022-10-26   1,420.00\n",
       "2    2022-10-25   1,433.00\n",
       "3    2022-10-24   1,442.00\n",
       "4    2022-10-21   1,438.00"
      ]
     },
     "execution_count": 12,
     "metadata": {},
     "output_type": "execute_result"
    }
   ],
   "source": [
    "usd = exchange_rate()\n",
    "usd.head()"
   ]
  },
  {
   "cell_type": "code",
   "execution_count": 13,
   "id": "1bd55dc3",
   "metadata": {},
   "outputs": [],
   "source": [
    "# 시각화 및 상관관계 분석"
   ]
  },
  {
   "cell_type": "code",
   "execution_count": 14,
   "id": "8a4f70ba",
   "metadata": {},
   "outputs": [],
   "source": [
    "%config InLineBackend.figure_formats = {'png','retina'}"
   ]
  },
  {
   "cell_type": "code",
   "execution_count": 15,
   "id": "1c1d2e64",
   "metadata": {},
   "outputs": [],
   "source": [
    "import matplotlib.pyplot as plt\n",
    "import seaborn as sns"
   ]
  },
  {
   "cell_type": "code",
   "execution_count": 16,
   "id": "a0ba88c0",
   "metadata": {},
   "outputs": [],
   "source": [
    "# 데이터 수집 : kospi, kosdaq, usd\n",
    "# kospi = stock_price()\n",
    "kosdaq = stock_price(\"KOSDAQ\")\n",
    "usd = exchange_rate()"
   ]
  },
  {
   "cell_type": "code",
   "execution_count": 17,
   "id": "b5bbe584",
   "metadata": {},
   "outputs": [
    {
     "data": {
      "text/plain": [
       "localTradedAt    object\n",
       "closePrice       object\n",
       "dtype: object"
      ]
     },
     "execution_count": 17,
     "metadata": {},
     "output_type": "execute_result"
    }
   ],
   "source": [
    "# 데이터 전처리 : str> float\n",
    "kosdaq.dtypes"
   ]
  },
  {
   "cell_type": "code",
   "execution_count": 18,
   "id": "94dcf52e",
   "metadata": {},
   "outputs": [],
   "source": [
    "kosdaq[\"closePrice\"] = kosdaq[\"closePrice\"].apply(lambda data: float(data.replace(\",\",\"\")))"
   ]
  },
  {
   "cell_type": "code",
   "execution_count": 19,
   "id": "a6a410d7",
   "metadata": {},
   "outputs": [],
   "source": [
    "usd[\"closePrice\"] = usd[\"closePrice\"].apply(lambda data: float(data.replace(\",\",\"\")))"
   ]
  },
  {
   "cell_type": "code",
   "execution_count": 20,
   "id": "e89574a0",
   "metadata": {},
   "outputs": [
    {
     "data": {
      "text/plain": [
       "localTradedAt     object\n",
       "closePrice       float64\n",
       "dtype: object"
      ]
     },
     "execution_count": 20,
     "metadata": {},
     "output_type": "execute_result"
    }
   ],
   "source": [
    "usd.dtypes"
   ]
  },
  {
   "cell_type": "code",
   "execution_count": 21,
   "id": "853de7b6",
   "metadata": {},
   "outputs": [],
   "source": [
    "# lambda : 일회성 함수 : lambda params: return  -메모리 줄일수 있음"
   ]
  },
  {
   "cell_type": "code",
   "execution_count": 23,
   "id": "e8919486",
   "metadata": {},
   "outputs": [],
   "source": [
    "# apply(func) : 모든 데이터에 func을 적용시킨 결과를 출력"
   ]
  },
  {
   "cell_type": "code",
   "execution_count": 24,
   "id": "f336b2b0",
   "metadata": {},
   "outputs": [
    {
     "data": {
      "text/html": [
       "<div>\n",
       "<style scoped>\n",
       "    .dataframe tbody tr th:only-of-type {\n",
       "        vertical-align: middle;\n",
       "    }\n",
       "\n",
       "    .dataframe tbody tr th {\n",
       "        vertical-align: top;\n",
       "    }\n",
       "\n",
       "    .dataframe thead th {\n",
       "        text-align: right;\n",
       "    }\n",
       "</style>\n",
       "<table border=\"1\" class=\"dataframe\">\n",
       "  <thead>\n",
       "    <tr style=\"text-align: right;\">\n",
       "      <th></th>\n",
       "      <th>date</th>\n",
       "      <th>kosdaq</th>\n",
       "      <th>usd</th>\n",
       "    </tr>\n",
       "  </thead>\n",
       "  <tbody>\n",
       "    <tr>\n",
       "      <th>0</th>\n",
       "      <td>2022-10-27</td>\n",
       "      <td>692.03</td>\n",
       "      <td>1421.5</td>\n",
       "    </tr>\n",
       "    <tr>\n",
       "      <th>1</th>\n",
       "      <td>2022-10-26</td>\n",
       "      <td>683.17</td>\n",
       "      <td>1420.0</td>\n",
       "    </tr>\n",
       "    <tr>\n",
       "      <th>2</th>\n",
       "      <td>2022-10-25</td>\n",
       "      <td>688.85</td>\n",
       "      <td>1433.0</td>\n",
       "    </tr>\n",
       "    <tr>\n",
       "      <th>3</th>\n",
       "      <td>2022-10-24</td>\n",
       "      <td>688.50</td>\n",
       "      <td>1442.0</td>\n",
       "    </tr>\n",
       "    <tr>\n",
       "      <th>4</th>\n",
       "      <td>2022-10-21</td>\n",
       "      <td>674.48</td>\n",
       "      <td>1438.0</td>\n",
       "    </tr>\n",
       "  </tbody>\n",
       "</table>\n",
       "</div>"
      ],
      "text/plain": [
       "         date  kosdaq     usd\n",
       "0  2022-10-27  692.03  1421.5\n",
       "1  2022-10-26  683.17  1420.0\n",
       "2  2022-10-25  688.85  1433.0\n",
       "3  2022-10-24  688.50  1442.0\n",
       "4  2022-10-21  674.48  1438.0"
      ]
     },
     "execution_count": 24,
     "metadata": {},
     "output_type": "execute_result"
    }
   ],
   "source": [
    "df = kosdaq.copy()\n",
    "df = df.rename(columns = {\"localTradedAt\":\"date\",\"closePrice\": \"kosdaq\"})\n",
    "df['usd'] = usd[\"closePrice\"]\n",
    "df.head()"
   ]
  },
  {
   "cell_type": "code",
   "execution_count": 25,
   "id": "7f43a557",
   "metadata": {},
   "outputs": [
    {
     "data": {
      "text/plain": [
       "date       object\n",
       "kosdaq    float64\n",
       "usd       float64\n",
       "dtype: object"
      ]
     },
     "execution_count": 25,
     "metadata": {},
     "output_type": "execute_result"
    }
   ],
   "source": [
    "df.dtypes"
   ]
  },
  {
   "cell_type": "code",
   "execution_count": 26,
   "id": "2eb8b2c3",
   "metadata": {},
   "outputs": [],
   "source": [
    "# 그래프 그리기"
   ]
  },
  {
   "cell_type": "code",
   "execution_count": 27,
   "id": "c4a61698",
   "metadata": {},
   "outputs": [
    {
     "data": {
      "text/plain": [
       "Index(['date', 'kosdaq', 'usd'], dtype='object')"
      ]
     },
     "execution_count": 27,
     "metadata": {},
     "output_type": "execute_result"
    }
   ],
   "source": [
    "df.columns"
   ]
  },
  {
   "cell_type": "code",
   "execution_count": 28,
   "id": "173c7f06",
   "metadata": {},
   "outputs": [
    {
     "data": {
      "image/png": "[encoded data removed]",
      "text/plain": [
       "<Figure size 2000x500 with 1 Axes>"
      ]
     },
     "metadata": {},
     "output_type": "display_data"
    }
   ],
   "source": [
    "plt.figure(figsize =(20,5))\n",
    "# plt.plot(df['date'], df ['kosdaq'], label ='kosdaq')\n",
    "# plt.plot(df['date'], df ['usd'], label = 'usd')\n",
    "\n",
    "for column in df.columns[1:]:\n",
    "    plt.plot(df['date'],df[column],label=column)\n",
    "plt.legend()\n",
    "plt.xticks(df['date'][::2])\n",
    "plt.show()"
   ]
  },
  {
   "cell_type": "code",
   "execution_count": 29,
   "id": "d5a9ec58",
   "metadata": {},
   "outputs": [],
   "source": [
    "# 데이터 스케일링 : min max scale\n",
    "# z = (x - min(x) ) / (max(x)  - min(x) ) : 0 <=z <= 1"
   ]
  },
  {
   "cell_type": "code",
   "execution_count": 30,
   "id": "10e01157",
   "metadata": {},
   "outputs": [],
   "source": [
    "from sklearn.preprocessing import minmax_scale"
   ]
  },
  {
   "cell_type": "code",
   "execution_count": 31,
   "id": "c92e06dd",
   "metadata": {},
   "outputs": [
    {
     "data": {
      "image/png": "[encoded data removed]",
      "text/plain": [
       "<Figure size 2000x500 with 1 Axes>"
      ]
     },
     "metadata": {},
     "output_type": "display_data"
    }
   ],
   "source": [
    "plt.figure(figsize =(20,5))\n",
    "# plt.plot(df['date'], df ['kosdaq'], label ='kosdaq')\n",
    "# plt.plot(df['date'], df ['usd'], label = 'usd')\n",
    "\n",
    "for column in df.columns[1:]:\n",
    "    plt.plot(df['date'],minmax_scale(df[column]),label=column)\n",
    "plt.legend()\n",
    "plt.xticks(df['date'][::2])\n",
    "plt.show()"
   ]
  },
  {
   "cell_type": "code",
   "execution_count": null,
   "id": "0163c9aa",
   "metadata": {},
   "outputs": [],
   "source": [
    "# 상관관계 분석\n",
    "#상관계수해석 : \n",
    "# 0과 가까울수록 두 데이터는 관계 X, \n",
    "# 1과 가까울수록 두 데이터는 강한 양의 상관관계를 갖는다. (비례)\n",
    "# -1과 가까울수록 두 데이터는 강한 음의 상관관계 (반비례)"
   ]
  },
  {
   "cell_type": "code",
   "execution_count": null,
   "id": "9499fcce",
   "metadata": {},
   "outputs": [],
   "source": [
    "# kosdaq - usd : 음의 상관관계를 갖는다"
   ]
  },
  {
   "cell_type": "code",
   "execution_count": 32,
   "id": "167281d3",
   "metadata": {},
   "outputs": [
    {
     "data": {
      "text/html": [
       "<div>\n",
       "<style scoped>\n",
       "    .dataframe tbody tr th:only-of-type {\n",
       "        vertical-align: middle;\n",
       "    }\n",
       "\n",
       "    .dataframe tbody tr th {\n",
       "        vertical-align: top;\n",
       "    }\n",
       "\n",
       "    .dataframe thead th {\n",
       "        text-align: right;\n",
       "    }\n",
       "</style>\n",
       "<table border=\"1\" class=\"dataframe\">\n",
       "  <thead>\n",
       "    <tr style=\"text-align: right;\">\n",
       "      <th></th>\n",
       "      <th>kosdaq</th>\n",
       "      <th>usd</th>\n",
       "    </tr>\n",
       "  </thead>\n",
       "  <tbody>\n",
       "    <tr>\n",
       "      <th>kosdaq</th>\n",
       "      <td>1.000000</td>\n",
       "      <td>-0.625064</td>\n",
       "    </tr>\n",
       "    <tr>\n",
       "      <th>usd</th>\n",
       "      <td>-0.625064</td>\n",
       "      <td>1.000000</td>\n",
       "    </tr>\n",
       "  </tbody>\n",
       "</table>\n",
       "</div>"
      ],
      "text/plain": [
       "          kosdaq       usd\n",
       "kosdaq  1.000000 -0.625064\n",
       "usd    -0.625064  1.000000"
      ]
     },
     "execution_count": 32,
     "metadata": {},
     "output_type": "execute_result"
    }
   ],
   "source": [
    "df[df.columns[1:]].corr()"
   ]
  }
 ],
 "metadata": {
  "kernelspec": {
   "display_name": "Python 3 (ipykernel)",
   "language": "python",
   "name": "python3"
  },
  "language_info": {
   "codemirror_mode": {
    "name": "ipython",
    "version": 3
   },
   "file_extension": ".py",
   "mimetype": "text/x-python",
   "name": "python",
   "nbconvert_exporter": "python",
   "pygments_lexer": "ipython3",
   "version": "3.9.13"
  }
 },
 "nbformat": 4,
 "nbformat_minor": 5
}
