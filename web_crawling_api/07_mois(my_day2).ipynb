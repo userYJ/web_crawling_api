{
 "cells": [
  {
   "cell_type": "markdown",
   "id": "546fc614",
   "metadata": {},
   "source": [
    "### 행정안전부 보도자료 데이터 수집\n",
    "- 정적페이지 데이터 수집 : html : bs, css-selecter 이용\n",
    "- post방식 데이터가져옴 (html문자열)\n",
    "- 여러개의 페이지의 데이터 수집"
   ]
  },
  {
   "cell_type": "code",
   "execution_count": 1,
   "id": "da48c640",
   "metadata": {},
   "outputs": [],
   "source": [
    "import pandas as pd\n",
    "import requests\n",
    "from bs4 import BeautifulSoup"
   ]
  },
  {
   "cell_type": "code",
   "execution_count": 2,
   "id": "dd382168",
   "metadata": {},
   "outputs": [],
   "source": [
    "# 1. 웹서비스 분석 : url"
   ]
  },
  {
   "cell_type": "code",
   "execution_count": 8,
   "id": "33e5214f",
   "metadata": {},
   "outputs": [],
   "source": [
    "page= 3\n",
    "url = f\"https://www.mois.go.kr/frt/bbs/type010/commonSelectBoardList.do?bbsId=BBSMSTR_000000000008\"\n",
    "params = {\n",
    "    \"nttId\": \"0\",\n",
    "    \"bbsTyCode\": \"BBST03\",\n",
    "    \"bbsAttrbCode\": \"BBSA03\",\n",
    "    \"authFlag\": \"Y\",\n",
    "    \"pageIndex\": page,\n",
    "    \"cal_url\": \"/sym/cal/EgovNormalCalPopup.do\",\n",
    "    \"searchCnd\": \"0\",\n",
    "}"
   ]
  },
  {
   "cell_type": "code",
   "execution_count": 3,
   "id": "47f5cbd7",
   "metadata": {},
   "outputs": [],
   "source": [
    "# 2. request(url) > response : html"
   ]
  },
  {
   "cell_type": "code",
   "execution_count": 9,
   "id": "5f2dd0b6",
   "metadata": {},
   "outputs": [
    {
     "data": {
      "text/plain": [
       "<Response [200]>"
      ]
     },
     "execution_count": 9,
     "metadata": {},
     "output_type": "execute_result"
    }
   ],
   "source": [
    "response = requests.post(url,params)\n",
    "response"
   ]
  },
  {
   "cell_type": "code",
   "execution_count": 10,
   "id": "69bf2ae6",
   "metadata": {},
   "outputs": [
    {
     "data": {
      "text/plain": [
       "'<!DOCTYPE html>\\r\\n<html lang=\"ko\">\\r\\n<head>\\r\\n<title>\\r\\n\\r\\n행정안전부&gt;  뉴스·소식&gt; 보도자료&gt; 보도자료</title>\\r\\n<meta http-equiv=\"X-UA-Compatible\" content=\"IE=edge\" />\\r\\n<meta charset=\"utf-8\" />\\r\\n<meta name=\"viewport\" content=\"width=device-width,maximum-scale=1,minimum-scale=1,user-scalable=no\" />\\r\\n<meta name=\"author\" content=\"행정안전부\" />\\r\\n<meta name=\"subject\" content=\"행정안전부\" />\\r\\n<meta name=\"keywords\" content=\"행정안전부, 행안부, 정부혁신, 지방자치, 생활자치, 규제개혁, 지역경제 활성화, 국민생활 불편해소, 지방재정 개혁, 행정관리, 디지털 정부, 복지서비스, 복지사각지대, 지방공기업 경쟁'"
      ]
     },
     "execution_count": 10,
     "metadata": {},
     "output_type": "execute_result"
    }
   ],
   "source": [
    "response.text[:500] # html 포멧의 데이터 -> beautifulSoup, css-selecter 써야겠구나"
   ]
  },
  {
   "cell_type": "code",
   "execution_count": 4,
   "id": "f37889aa",
   "metadata": {},
   "outputs": [],
   "source": [
    "# 3. html(str) > bs_obj > bs_obj.select(css-selecter) > text > DataFrame"
   ]
  },
  {
   "cell_type": "code",
   "execution_count": 12,
   "id": "9e9b7a1b",
   "metadata": {},
   "outputs": [],
   "source": [
    "dom = BeautifulSoup(response.text, \"html.parser\")"
   ]
  },
  {
   "cell_type": "code",
   "execution_count": 14,
   "id": "e70048f8",
   "metadata": {},
   "outputs": [
    {
     "data": {
      "text/plain": [
       "10"
      ]
     },
     "execution_count": 14,
     "metadata": {},
     "output_type": "execute_result"
    }
   ],
   "source": [
    "# 게시글 리스트 데이터 선택 : 10개\n",
    "elements = dom.select(f\"#print_area > div.table_wrap.type_01 > form > table > tbody > tr\")\n",
    "len(elements)"
   ]
  },
  {
   "cell_type": "code",
   "execution_count": 27,
   "id": "209fa1f9",
   "metadata": {},
   "outputs": [
    {
     "data": {
      "text/plain": [
       "{'no': '12931',\n",
       " 'title': '사이버대학 성적·졸업증명서도 모바일 전자증명서로 발급한다',\n",
       " 'writer': '공공지능정책과',\n",
       " 'date': '2022.02.15.',\n",
       " 'pv': '812',\n",
       " 'link': 'https://www.mois.go.kr/frt/bbs/type010/commonSelectBoardArticle.do;jsessionid=ZECKsf+l8hUneyzWVmtUwOP9.node40?bbsId=BBSMSTR_000000000008&nttId=90455'}"
      ]
     },
     "execution_count": 27,
     "metadata": {},
     "output_type": "execute_result"
    }
   ],
   "source": [
    "# 각 데이터에서 필요한 정보 수집\n",
    "element = elements[0]\n",
    "\n",
    "data = {\n",
    "    \"no\": element.select(\"td\")[0].text.strip(), #앞뒤 공백제거 strip\n",
    "    \"title\":element.select(\"td\")[1].text.strip(),\n",
    "    \"writer\":element.select(\"td\")[3].text.strip(),\n",
    "    \"date\":element.select(\"td\")[4].text.strip(),\n",
    "    \"pv\":element.select(\"td\")[5].text.strip(),\n",
    "    \"link\":\"https://www.mois.go.kr\"+element.select(\"td\")[1].select_one(\"a\").get(\"href\"), # a태그 선택\n",
    "}\n",
    "data"
   ]
  },
  {
   "cell_type": "code",
   "execution_count": 28,
   "id": "66dd5e90",
   "metadata": {},
   "outputs": [],
   "source": [
    "# df만들기 [{row1}, {row2}]"
   ]
  },
  {
   "cell_type": "code",
   "execution_count": 30,
   "id": "4fbdbaea",
   "metadata": {},
   "outputs": [
    {
     "data": {
      "text/html": [
       "<div>\n",
       "<style scoped>\n",
       "    .dataframe tbody tr th:only-of-type {\n",
       "        vertical-align: middle;\n",
       "    }\n",
       "\n",
       "    .dataframe tbody tr th {\n",
       "        vertical-align: top;\n",
       "    }\n",
       "\n",
       "    .dataframe thead th {\n",
       "        text-align: right;\n",
       "    }\n",
       "</style>\n",
       "<table border=\"1\" class=\"dataframe\">\n",
       "  <thead>\n",
       "    <tr style=\"text-align: right;\">\n",
       "      <th></th>\n",
       "      <th>no</th>\n",
       "      <th>title</th>\n",
       "      <th>writer</th>\n",
       "      <th>date</th>\n",
       "      <th>pv</th>\n",
       "      <th>link</th>\n",
       "    </tr>\n",
       "  </thead>\n",
       "  <tbody>\n",
       "    <tr>\n",
       "      <th>7</th>\n",
       "      <td>12924</td>\n",
       "      <td>이제 스마트폰으로 주민등록증 확인 가능해진다... 4월 시범실시 예정</td>\n",
       "      <td>주민과</td>\n",
       "      <td>2022.02.10.</td>\n",
       "      <td>1760</td>\n",
       "      <td>https://www.mois.go.kr/frt/bbs/type010/commonS...</td>\n",
       "    </tr>\n",
       "    <tr>\n",
       "      <th>8</th>\n",
       "      <td>12923</td>\n",
       "      <td>스마트워크센터 밀집현상 해소를 위해 서울역 2호점 추가 개소</td>\n",
       "      <td>스마트행정기반과</td>\n",
       "      <td>2022.02.10.</td>\n",
       "      <td>1042</td>\n",
       "      <td>https://www.mois.go.kr/frt/bbs/type010/commonS...</td>\n",
       "    </tr>\n",
       "    <tr>\n",
       "      <th>9</th>\n",
       "      <td>12922</td>\n",
       "      <td>2022년 지방규제, 지역활력 제고에 초점 맞추기로</td>\n",
       "      <td>지방규제혁신과</td>\n",
       "      <td>2022.02.10.</td>\n",
       "      <td>1120</td>\n",
       "      <td>https://www.mois.go.kr/frt/bbs/type010/commonS...</td>\n",
       "    </tr>\n",
       "  </tbody>\n",
       "</table>\n",
       "</div>"
      ],
      "text/plain": [
       "      no                                   title    writer         date    pv  \\\n",
       "7  12924  이제 스마트폰으로 주민등록증 확인 가능해진다... 4월 시범실시 예정       주민과  2022.02.10.  1760   \n",
       "8  12923       스마트워크센터 밀집현상 해소를 위해 서울역 2호점 추가 개소  스마트행정기반과  2022.02.10.  1042   \n",
       "9  12922            2022년 지방규제, 지역활력 제고에 초점 맞추기로   지방규제혁신과  2022.02.10.  1120   \n",
       "\n",
       "                                                link  \n",
       "7  https://www.mois.go.kr/frt/bbs/type010/commonS...  \n",
       "8  https://www.mois.go.kr/frt/bbs/type010/commonS...  \n",
       "9  https://www.mois.go.kr/frt/bbs/type010/commonS...  "
      ]
     },
     "execution_count": 30,
     "metadata": {},
     "output_type": "execute_result"
    }
   ],
   "source": [
    "# 10개의 데이터 수집\n",
    "datas = []\n",
    "for element in elements:\n",
    "    datas.append({\n",
    "        \"no\": element.select(\"td\")[0].text.strip(), #앞뒤 공백제거 strip\n",
    "        \"title\":element.select(\"td\")[1].text.strip(),\n",
    "        \"writer\":element.select(\"td\")[3].text.strip(),\n",
    "        \"date\":element.select(\"td\")[4].text.strip(),\n",
    "        \"pv\":element.select(\"td\")[5].text.strip(),\n",
    "        \"link\":\"https://www.mois.go.kr\"+element.select(\"td\")[1].select_one(\"a\").get(\"href\"),\n",
    "    })\n",
    "datas\n",
    "\n",
    "df = pd.DataFrame(datas)\n",
    "df.tail(3)"
   ]
  },
  {
   "cell_type": "code",
   "execution_count": 5,
   "id": "f66d0ef5",
   "metadata": {},
   "outputs": [],
   "source": [
    "# 4. function : params : page"
   ]
  },
  {
   "cell_type": "code",
   "execution_count": 32,
   "id": "7d1f7524",
   "metadata": {},
   "outputs": [],
   "source": [
    "def mois(page):\n",
    "    url = f\"https://www.mois.go.kr/frt/bbs/type010/commonSelectBoardList.do?bbsId=BBSMSTR_000000000008\"\n",
    "    params = {\n",
    "    \"nttId\": \"0\",\n",
    "    \"bbsTyCode\": \"BBST03\",\n",
    "    \"bbsAttrbCode\": \"BBSA03\",\n",
    "    \"authFlag\": \"Y\",\n",
    "    \"pageIndex\": page,\n",
    "    \"cal_url\": \"/sym/cal/EgovNormalCalPopup.do\",\n",
    "    \"searchCnd\": \"0\",\n",
    "    }\n",
    "    response = requests.post(url,params)\n",
    "    dom = BeautifulSoup(response.text, \"html.parser\")\n",
    "    elements = dom.select(f\"#print_area > div.table_wrap.type_01 > form > table > tbody > tr\")\n",
    "    datas = []\n",
    "    for element in elements:\n",
    "        datas.append({\n",
    "            \"no\": element.select(\"td\")[0].text.strip(), #앞뒤 공백제거 strip\n",
    "            \"title\":element.select(\"td\")[1].text.strip(),\n",
    "            \"writer\":element.select(\"td\")[3].text.strip(),\n",
    "            \"date\":element.select(\"td\")[4].text.strip(),\n",
    "            \"pv\":element.select(\"td\")[5].text.strip(),\n",
    "            \"link\":\"https://www.mois.go.kr\"+element.select(\"td\")[1].select_one(\"a\").get(\"href\"),\n",
    "        })\n",
    "        \n",
    "    return pd.DataFrame(datas)"
   ]
  },
  {
   "cell_type": "code",
   "execution_count": 33,
   "id": "51646b80",
   "metadata": {},
   "outputs": [
    {
     "data": {
      "text/html": [
       "<div>\n",
       "<style scoped>\n",
       "    .dataframe tbody tr th:only-of-type {\n",
       "        vertical-align: middle;\n",
       "    }\n",
       "\n",
       "    .dataframe tbody tr th {\n",
       "        vertical-align: top;\n",
       "    }\n",
       "\n",
       "    .dataframe thead th {\n",
       "        text-align: right;\n",
       "    }\n",
       "</style>\n",
       "<table border=\"1\" class=\"dataframe\">\n",
       "  <thead>\n",
       "    <tr style=\"text-align: right;\">\n",
       "      <th></th>\n",
       "      <th>no</th>\n",
       "      <th>title</th>\n",
       "      <th>writer</th>\n",
       "      <th>date</th>\n",
       "      <th>pv</th>\n",
       "      <th>link</th>\n",
       "    </tr>\n",
       "  </thead>\n",
       "  <tbody>\n",
       "    <tr>\n",
       "      <th>0</th>\n",
       "      <td>12941</td>\n",
       "      <td>코로나19 감염병 확산 대비 사회필수 기능 유지를 위한 기능연속성계획(BCP) 수립</td>\n",
       "      <td>예방안전과</td>\n",
       "      <td>2022.02.18.</td>\n",
       "      <td>1245</td>\n",
       "      <td>https://www.mois.go.kr/frt/bbs/type010/commonS...</td>\n",
       "    </tr>\n",
       "    <tr>\n",
       "      <th>1</th>\n",
       "      <td>12940</td>\n",
       "      <td>2022년도 정부청사 공무직 인사제도 이렇게 달라집니다</td>\n",
       "      <td>노사후생과</td>\n",
       "      <td>2022.02.17.</td>\n",
       "      <td>756</td>\n",
       "      <td>https://www.mois.go.kr/frt/bbs/type010/commonS...</td>\n",
       "    </tr>\n",
       "    <tr>\n",
       "      <th>2</th>\n",
       "      <td>12939</td>\n",
       "      <td>위급상황, 소화기·완강기·자동심장충격기 사용은 이렇게!</td>\n",
       "      <td>예방안전과</td>\n",
       "      <td>2022.02.17.</td>\n",
       "      <td>524</td>\n",
       "      <td>https://www.mois.go.kr/frt/bbs/type010/commonS...</td>\n",
       "    </tr>\n",
       "    <tr>\n",
       "      <th>3</th>\n",
       "      <td>12938</td>\n",
       "      <td>행정안전부 장관, 경북 영덕군 산불 관련 긴급지시</td>\n",
       "      <td>환경재난대응과</td>\n",
       "      <td>2022.02.16.</td>\n",
       "      <td>575</td>\n",
       "      <td>https://www.mois.go.kr/frt/bbs/type010/commonS...</td>\n",
       "    </tr>\n",
       "    <tr>\n",
       "      <th>4</th>\n",
       "      <td>12937</td>\n",
       "      <td>정부세종청사 관·군·경 통합방위태세 확립 훈련 실시</td>\n",
       "      <td>청사보안기획과</td>\n",
       "      <td>2022.02.16.</td>\n",
       "      <td>500</td>\n",
       "      <td>https://www.mois.go.kr/frt/bbs/type010/commonS...</td>\n",
       "    </tr>\n",
       "    <tr>\n",
       "      <th>5</th>\n",
       "      <td>12936</td>\n",
       "      <td>공공부문 클라우드 정책, 공공·민간이 함께 만든다</td>\n",
       "      <td>디지털자원정책과</td>\n",
       "      <td>2022.02.16.</td>\n",
       "      <td>745</td>\n",
       "      <td>https://www.mois.go.kr/frt/bbs/type010/commonS...</td>\n",
       "    </tr>\n",
       "    <tr>\n",
       "      <th>6</th>\n",
       "      <td>12935</td>\n",
       "      <td>경남청사관리소, 공무직 근로자와 노사화합의 첫 길을 열다</td>\n",
       "      <td>경남청사관리소</td>\n",
       "      <td>2022.02.16.</td>\n",
       "      <td>456</td>\n",
       "      <td>https://www.mois.go.kr/frt/bbs/type010/commonS...</td>\n",
       "    </tr>\n",
       "    <tr>\n",
       "      <th>7</th>\n",
       "      <td>12934</td>\n",
       "      <td>제20대 대통령선거 안전하고 공정하게 실시</td>\n",
       "      <td>선거의회자치법규과</td>\n",
       "      <td>2022.02.15.</td>\n",
       "      <td>655</td>\n",
       "      <td>https://www.mois.go.kr/frt/bbs/type010/commonS...</td>\n",
       "    </tr>\n",
       "    <tr>\n",
       "      <th>8</th>\n",
       "      <td>12933</td>\n",
       "      <td>김부겸 국무총리, 제20대 대통령 선거 대비 「공명선거 관계장관회의」 주재</td>\n",
       "      <td>선거의회자치법규과</td>\n",
       "      <td>2022.02.15.</td>\n",
       "      <td>511</td>\n",
       "      <td>https://www.mois.go.kr/frt/bbs/type010/commonS...</td>\n",
       "    </tr>\n",
       "    <tr>\n",
       "      <th>9</th>\n",
       "      <td>12932</td>\n",
       "      <td>정부청사, 청경 24시간 근무 폐지하는 단체협약 체결</td>\n",
       "      <td>청사보안기획과</td>\n",
       "      <td>2022.02.15.</td>\n",
       "      <td>575</td>\n",
       "      <td>https://www.mois.go.kr/frt/bbs/type010/commonS...</td>\n",
       "    </tr>\n",
       "  </tbody>\n",
       "</table>\n",
       "</div>"
      ],
      "text/plain": [
       "      no                                           title     writer  \\\n",
       "0  12941  코로나19 감염병 확산 대비 사회필수 기능 유지를 위한 기능연속성계획(BCP) 수립      예방안전과   \n",
       "1  12940                  2022년도 정부청사 공무직 인사제도 이렇게 달라집니다      노사후생과   \n",
       "2  12939                  위급상황, 소화기·완강기·자동심장충격기 사용은 이렇게!      예방안전과   \n",
       "3  12938                     행정안전부 장관, 경북 영덕군 산불 관련 긴급지시    환경재난대응과   \n",
       "4  12937                    정부세종청사 관·군·경 통합방위태세 확립 훈련 실시    청사보안기획과   \n",
       "5  12936                     공공부문 클라우드 정책, 공공·민간이 함께 만든다   디지털자원정책과   \n",
       "6  12935                 경남청사관리소, 공무직 근로자와 노사화합의 첫 길을 열다    경남청사관리소   \n",
       "7  12934                         제20대 대통령선거 안전하고 공정하게 실시  선거의회자치법규과   \n",
       "8  12933       김부겸 국무총리, 제20대 대통령 선거 대비 「공명선거 관계장관회의」 주재  선거의회자치법규과   \n",
       "9  12932                   정부청사, 청경 24시간 근무 폐지하는 단체협약 체결    청사보안기획과   \n",
       "\n",
       "          date    pv                                               link  \n",
       "0  2022.02.18.  1245  https://www.mois.go.kr/frt/bbs/type010/commonS...  \n",
       "1  2022.02.17.   756  https://www.mois.go.kr/frt/bbs/type010/commonS...  \n",
       "2  2022.02.17.   524  https://www.mois.go.kr/frt/bbs/type010/commonS...  \n",
       "3  2022.02.16.   575  https://www.mois.go.kr/frt/bbs/type010/commonS...  \n",
       "4  2022.02.16.   500  https://www.mois.go.kr/frt/bbs/type010/commonS...  \n",
       "5  2022.02.16.   745  https://www.mois.go.kr/frt/bbs/type010/commonS...  \n",
       "6  2022.02.16.   456  https://www.mois.go.kr/frt/bbs/type010/commonS...  \n",
       "7  2022.02.15.   655  https://www.mois.go.kr/frt/bbs/type010/commonS...  \n",
       "8  2022.02.15.   511  https://www.mois.go.kr/frt/bbs/type010/commonS...  \n",
       "9  2022.02.15.   575  https://www.mois.go.kr/frt/bbs/type010/commonS...  "
      ]
     },
     "execution_count": 33,
     "metadata": {},
     "output_type": "execute_result"
    }
   ],
   "source": [
    "mois(2)"
   ]
  },
  {
   "cell_type": "code",
   "execution_count": 6,
   "id": "e589dcfc",
   "metadata": {},
   "outputs": [],
   "source": [
    "# 5. 여러 페이지 데이터 수집"
   ]
  },
  {
   "cell_type": "code",
   "execution_count": 35,
   "id": "449bd11e",
   "metadata": {},
   "outputs": [
    {
     "name": "stdout",
     "output_type": "stream",
     "text": [
      "123"
     ]
    }
   ],
   "source": [
    "# pandas의 concat 사용\n",
    "dfs = []\n",
    "for page in range(1,4):\n",
    "    print(page, end=\"\")\n",
    "    dfs.append(mois(page))"
   ]
  },
  {
   "cell_type": "code",
   "execution_count": 39,
   "id": "168e52f7",
   "metadata": {},
   "outputs": [
    {
     "data": {
      "text/html": [
       "<div>\n",
       "<style scoped>\n",
       "    .dataframe tbody tr th:only-of-type {\n",
       "        vertical-align: middle;\n",
       "    }\n",
       "\n",
       "    .dataframe tbody tr th {\n",
       "        vertical-align: top;\n",
       "    }\n",
       "\n",
       "    .dataframe thead th {\n",
       "        text-align: right;\n",
       "    }\n",
       "</style>\n",
       "<table border=\"1\" class=\"dataframe\">\n",
       "  <thead>\n",
       "    <tr style=\"text-align: right;\">\n",
       "      <th></th>\n",
       "      <th>no</th>\n",
       "      <th>title</th>\n",
       "      <th>writer</th>\n",
       "      <th>date</th>\n",
       "      <th>pv</th>\n",
       "      <th>link</th>\n",
       "    </tr>\n",
       "  </thead>\n",
       "  <tbody>\n",
       "    <tr>\n",
       "      <th>27</th>\n",
       "      <td>12924</td>\n",
       "      <td>이제 스마트폰으로 주민등록증 확인 가능해진다... 4월 시범실시 예정</td>\n",
       "      <td>주민과</td>\n",
       "      <td>2022.02.10.</td>\n",
       "      <td>1762</td>\n",
       "      <td>https://www.mois.go.kr/frt/bbs/type010/commonS...</td>\n",
       "    </tr>\n",
       "    <tr>\n",
       "      <th>28</th>\n",
       "      <td>12923</td>\n",
       "      <td>스마트워크센터 밀집현상 해소를 위해 서울역 2호점 추가 개소</td>\n",
       "      <td>스마트행정기반과</td>\n",
       "      <td>2022.02.10.</td>\n",
       "      <td>1044</td>\n",
       "      <td>https://www.mois.go.kr/frt/bbs/type010/commonS...</td>\n",
       "    </tr>\n",
       "    <tr>\n",
       "      <th>29</th>\n",
       "      <td>12922</td>\n",
       "      <td>2022년 지방규제, 지역활력 제고에 초점 맞추기로</td>\n",
       "      <td>지방규제혁신과</td>\n",
       "      <td>2022.02.10.</td>\n",
       "      <td>1122</td>\n",
       "      <td>https://www.mois.go.kr/frt/bbs/type010/commonS...</td>\n",
       "    </tr>\n",
       "  </tbody>\n",
       "</table>\n",
       "</div>"
      ],
      "text/plain": [
       "       no                                   title    writer         date  \\\n",
       "27  12924  이제 스마트폰으로 주민등록증 확인 가능해진다... 4월 시범실시 예정       주민과  2022.02.10.   \n",
       "28  12923       스마트워크센터 밀집현상 해소를 위해 서울역 2호점 추가 개소  스마트행정기반과  2022.02.10.   \n",
       "29  12922            2022년 지방규제, 지역활력 제고에 초점 맞추기로   지방규제혁신과  2022.02.10.   \n",
       "\n",
       "      pv                                               link  \n",
       "27  1762  https://www.mois.go.kr/frt/bbs/type010/commonS...  \n",
       "28  1044  https://www.mois.go.kr/frt/bbs/type010/commonS...  \n",
       "29  1122  https://www.mois.go.kr/frt/bbs/type010/commonS...  "
      ]
     },
     "execution_count": 39,
     "metadata": {},
     "output_type": "execute_result"
    }
   ],
   "source": [
    "dfs[0]\n",
    "result_df =pd.concat(dfs, ignore_index=True)\n",
    "result_df.tail(3)"
   ]
  }
 ],
 "metadata": {
  "kernelspec": {
   "display_name": "Python 3 (ipykernel)",
   "language": "python",
   "name": "python3"
  },
  "language_info": {
   "codemirror_mode": {
    "name": "ipython",
    "version": 3
   },
   "file_extension": ".py",
   "mimetype": "text/x-python",
   "name": "python",
   "nbconvert_exporter": "python",
   "pygments_lexer": "ipython3",
   "version": "3.9.13"
  }
 },
 "nbformat": 4,
 "nbformat_minor": 5
}
