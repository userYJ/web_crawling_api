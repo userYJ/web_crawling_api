{
 "cells": [
  {
   "cell_type": "markdown",
   "id": "c7ab0d5e",
   "metadata": {},
   "source": [
    "## 네이버 연관검색어 데이터 수집\n",
    "- 정적 페이지 : html(str) : BeautifulSoup : bs_obj.select(css-selecter) : text // bs 써서 bs_obj 객체 생성 select메서드 이용"
   ]
  },
  {
   "cell_type": "markdown",
   "id": "d2266c14",
   "metadata": {},
   "source": [
    "## keyword로 연관검색어 가져오기"
   ]
  },
  {
   "cell_type": "code",
   "execution_count": 1,
   "id": "54f92a0c",
   "metadata": {},
   "outputs": [],
   "source": [
    "import requests\n",
    "import pandas as pd\n",
    "from bs4 import BeautifulSoup # -> 안되면 !pip install bs4"
   ]
  },
  {
   "cell_type": "code",
   "execution_count": 2,
   "id": "15fc479b",
   "metadata": {},
   "outputs": [],
   "source": [
    "# 1. 웹서비스 분석 : URL 알아내기"
   ]
  },
  {
   "cell_type": "code",
   "execution_count": 6,
   "id": "f09e55ec",
   "metadata": {},
   "outputs": [
    {
     "name": "stdout",
     "output_type": "stream",
     "text": [
      "https://search.naver.com/search.naver?query=삼성전자\n"
     ]
    }
   ],
   "source": [
    "keyword = \"삼성전자\"\n",
    "url =f\"https://search.naver.com/search.naver?query={keyword}\"\n",
    "print(url)"
   ]
  },
  {
   "cell_type": "code",
   "execution_count": 3,
   "id": "da6c8669",
   "metadata": {},
   "outputs": [],
   "source": [
    "# 2. request(url) > response(data) : data(html) : html 문자열은 한페이지 모두"
   ]
  },
  {
   "cell_type": "code",
   "execution_count": 7,
   "id": "f87546a1",
   "metadata": {},
   "outputs": [
    {
     "data": {
      "text/plain": [
       "<Response [200]>"
      ]
     },
     "execution_count": 7,
     "metadata": {},
     "output_type": "execute_result"
    }
   ],
   "source": [
    "response = requests.get(url)\n",
    "response"
   ]
  },
  {
   "cell_type": "code",
   "execution_count": 11,
   "id": "3dbd3fca",
   "metadata": {},
   "outputs": [
    {
     "data": {
      "text/plain": [
       "'<!doctype html> <html lang=\"ko\"> <head> <meta charset=\"utf-8\"> <meta name=\"referrer\" content=\"always\">  <meta name=\"format-detection\" content=\"telephone=no,address=no,email=no\"> <meta name=\"viewport\" content=\"width=device-width,initial-scale=1.0,maximum-scale=2.0\"> <meta property=\"og:title\" content=\"삼성전자 : 네이버 통합검색\"/> <meta property=\"og:image\" content=\"https://ssl.pstatic.net/sstatic/search/common/og_v3.png\"> <meta property=\"og:description\" content=\"\\'삼성전자\\'의 네이버 통합검색 결과입니다.\"> <meta name=\"descript'"
      ]
     },
     "execution_count": 11,
     "metadata": {},
     "output_type": "execute_result"
    }
   ],
   "source": [
    "response.text[:500] # html코드가 들어있음"
   ]
  },
  {
   "cell_type": "code",
   "execution_count": 4,
   "id": "c82f9dea",
   "metadata": {},
   "outputs": [],
   "source": [
    "# 3. data(html) > bs_obj.select(css-selecter) > text"
   ]
  },
  {
   "cell_type": "code",
   "execution_count": 12,
   "id": "68e10c63",
   "metadata": {},
   "outputs": [],
   "source": [
    "dom = BeautifulSoup(response.text, \"html.parser\") # beautifulsoup 객체 만들기"
   ]
  },
  {
   "cell_type": "code",
   "execution_count": 13,
   "id": "ab944dd3",
   "metadata": {},
   "outputs": [
    {
     "data": {
      "text/plain": [
       "bs4.BeautifulSoup"
      ]
     },
     "execution_count": 13,
     "metadata": {},
     "output_type": "execute_result"
    }
   ],
   "source": [
    "type(dom)"
   ]
  },
  {
   "cell_type": "code",
   "execution_count": 15,
   "id": "6f7e2bb8",
   "metadata": {},
   "outputs": [],
   "source": [
    "# dir(dom)"
   ]
  },
  {
   "cell_type": "code",
   "execution_count": 16,
   "id": "7e57f9e8",
   "metadata": {},
   "outputs": [],
   "source": [
    "# select : 여러개의 엘리먼트를 선택 : list : [Tag, Tag, Tag ....]\n",
    "# select_one : 하나의 엘리먼트를 선택 : Tag"
   ]
  },
  {
   "cell_type": "code",
   "execution_count": 17,
   "id": "2894c93a",
   "metadata": {},
   "outputs": [],
   "source": [
    "# li 엘리먼트 10개 선택"
   ]
  },
  {
   "cell_type": "code",
   "execution_count": 18,
   "id": "19476a2f",
   "metadata": {},
   "outputs": [
    {
     "data": {
      "text/plain": [
       "(10, bs4.element.Tag)"
      ]
     },
     "execution_count": 18,
     "metadata": {},
     "output_type": "execute_result"
    }
   ],
   "source": [
    "elements = dom.select(\".lst_related_srch > li\") # css-selecter 사용 id는 #, class 는 .\n",
    "len(elements), type(elements[0])"
   ]
  },
  {
   "cell_type": "code",
   "execution_count": null,
   "id": "b0c80722",
   "metadata": {},
   "outputs": [],
   "source": [
    "# 반복문으로 각각의 엘리먼트에서 text 추출"
   ]
  },
  {
   "cell_type": "code",
   "execution_count": 21,
   "id": "4ad57042",
   "metadata": {},
   "outputs": [
    {
     "data": {
      "text/plain": [
       "'삼성전자 주가'"
      ]
     },
     "execution_count": 21,
     "metadata": {},
     "output_type": "execute_result"
    }
   ],
   "source": [
    "element = elements[0] #하나의 엘리먼트\n",
    "# element.select_one(\".tit\")\n",
    "keyword = element.select_one(\".tit\").text\n",
    "keyword"
   ]
  },
  {
   "cell_type": "code",
   "execution_count": 23,
   "id": "9df6e6d4",
   "metadata": {},
   "outputs": [
    {
     "data": {
      "text/plain": [
       "['삼성전자 주가',\n",
       " '삼성전자 배당금',\n",
       " '삼성전자 주식',\n",
       " '삼성전자 특별보너스',\n",
       " '삼성전자 배당금 지급일',\n",
       " '오늘 삼성전자 주가',\n",
       " '삼성전자 성과급',\n",
       " '삼성 전자레인지',\n",
       " '삼성전자 채용',\n",
       " '삼성전자 보너스']"
      ]
     },
     "execution_count": 23,
     "metadata": {},
     "output_type": "execute_result"
    }
   ],
   "source": [
    "keywords = [element.select_one(\".tit\").text for element in elements]\n",
    "keywords"
   ]
  },
  {
   "cell_type": "code",
   "execution_count": 24,
   "id": "9505282d",
   "metadata": {},
   "outputs": [],
   "source": [
    "def relational_keyword(keyword):\n",
    "    url =f\"https://search.naver.com/search.naver?query={keyword}\"\n",
    "    response = requests.get(url)\n",
    "    dom = BeautifulSoup(response.text, \"html.parser\")\n",
    "    elements = dom.select(\".lst_related_srch > li\")\n",
    "    return [element.select_one(\".tit\").text for element in elements]"
   ]
  },
  {
   "cell_type": "code",
   "execution_count": 27,
   "id": "b9b70da0",
   "metadata": {},
   "outputs": [
    {
     "data": {
      "text/plain": [
       "['lg전자 주가',\n",
       " 'lg전자 서비스센터',\n",
       " 'lg전자 성과급',\n",
       " 'lg전자 베스트샵',\n",
       " 'lg 전자레인지',\n",
       " 'lg전자 배당금',\n",
       " 'lg전자 고객센터',\n",
       " 'lg전자 서비스센터 전화번호',\n",
       " 'LG전자성과급 논란',\n",
       " 'lg전자 애플카']"
      ]
     },
     "execution_count": 27,
     "metadata": {},
     "output_type": "execute_result"
    }
   ],
   "source": [
    "keyword = \"LG전자\"\n",
    "relational_keyword(keyword)"
   ]
  }
 ],
 "metadata": {
  "kernelspec": {
   "display_name": "Python 3 (ipykernel)",
   "language": "python",
   "name": "python3"
  },
  "language_info": {
   "codemirror_mode": {
    "name": "ipython",
    "version": 3
   },
   "file_extension": ".py",
   "mimetype": "text/x-python",
   "name": "python",
   "nbconvert_exporter": "python",
   "pygments_lexer": "ipython3",
   "version": "3.9.13"
  }
 },
 "nbformat": 4,
 "nbformat_minor": 5
}
